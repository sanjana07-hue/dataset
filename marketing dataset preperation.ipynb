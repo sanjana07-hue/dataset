{
 "cells": [
  {
   "cell_type": "code",
   "execution_count": null,
   "id": "61e9c660",
   "metadata": {},
   "outputs": [],
   "source": [
    "import pandas as pd\n",
    "import random\n",
    "\n",
    "# Define the number of samples\n",
    "num_samples = 1000\n",
    "\n",
    "# Create an empty DataFrame\n",
    "data = pd.DataFrame()\n",
    "\n",
    "# Generate sample data for each feature\n",
    "data['Lead ID'] = range(1, num_samples + 1)\n",
    "data['Age'] = [random.randint(18, 65) for _ in range(num_samples)]\n",
    "data['Gender'] = [random.choice(['Male', 'Female', 'Other']) for _ in range(num_samples)]\n",
    "data['Location'] = [random.choice(['New York', 'Los Angeles', 'Chicago', 'Houston']) for _ in range(num_samples)]\n",
    "data['Income'] = [random.randint(30000, 120000) for _ in range(num_samples)]\n",
    "data['Education Level'] = [random.choice(['High School', 'Bachelor', 'Master', 'Ph.D.']) for _ in range(num_samples)]\n",
    "data['Number of times contacted'] = [random.randint(1, 20) for _ in range(num_samples)]\n",
    "data['Marketing channel'] = [random.choice(['Email', 'Social Media', 'Phone Call']) for _ in range(num_samples)]\n",
    "data['Campaign effectiveness'] = [random.uniform(0, 1) for _ in range(num_samples)]\n",
    "data['Website visits'] = [random.randint(0, 10) for _ in range(num_samples)]\n",
    "data['Time spent on website'] = [random.uniform(0, 60) for _ in range(num_samples)]\n",
    "data['Pages viewed'] = [random.randint(1, 10) for _ in range(num_samples)]\n",
    "data['Previous product interactions'] = [random.choice([0, 1]) for _ in range(num_samples)]\n",
    "\n",
    "# Generate the binary target variable (Outcome)\n",
    "data['Outcome'] = [random.choice([0, 1]) for _ in range(num_samples)]\n",
    "\n",
    "# Save the dataset to a CSV file\n",
    "data.to_csv('marketing_leads_dataset.csv', index=False)\n"
   ]
  }
 ],
 "metadata": {
  "kernelspec": {
   "display_name": "Python 3 (ipykernel)",
   "language": "python",
   "name": "python3"
  },
  "language_info": {
   "codemirror_mode": {
    "name": "ipython",
    "version": 3
   },
   "file_extension": ".py",
   "mimetype": "text/x-python",
   "name": "python",
   "nbconvert_exporter": "python",
   "pygments_lexer": "ipython3",
   "version": "3.10.9"
  }
 },
 "nbformat": 4,
 "nbformat_minor": 5
}
